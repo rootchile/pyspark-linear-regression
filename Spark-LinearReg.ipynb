{
 "cells": [
  {
   "cell_type": "code",
   "execution_count": 1,
   "id": "extra-speech",
   "metadata": {},
   "outputs": [],
   "source": [
    "import os\n",
    "import pandas as pd\n",
    "import numpy as np\n",
    "import seaborn as sns\n",
    "import matplotlib.pyplot as plt\n",
    "\n",
    "# pyspark\n",
    "from pyspark import SparkConf, SparkContext\n",
    "from pyspark.sql import SparkSession, SQLContext\n",
    "\n",
    "from pyspark.sql.types import *\n",
    "import pyspark.sql.functions as F\n",
    "from pyspark.sql.functions import udf, col\n",
    "\n",
    "from pyspark.ml.regression import LinearRegression\n",
    "from pyspark.mllib.evaluation import RegressionMetrics\n",
    "\n",
    "from pyspark.ml.tuning import ParamGridBuilder, CrossValidator, CrossValidatorModel\n",
    "from pyspark.ml.feature import VectorAssembler, StandardScaler\n",
    "from pyspark.ml.evaluation import RegressionEvaluator\n",
    "\n",
    "#seeds\n",
    "rnd_seed = 23\n",
    "np.random.seed=rnd_seed\n",
    "np.random.set_state=rnd_seed"
   ]
  },
  {
   "cell_type": "code",
   "execution_count": 4,
   "id": "statewide-retro",
   "metadata": {},
   "outputs": [],
   "source": [
    "# Visualizacion\n",
    "from IPython.core.interactiveshell import InteractiveShell\n",
    "InteractiveShell.as_node_interactivity = 'all'\n",
    "\n",
    "pd.set_option('display.max_columns',200)\n",
    "pd.set_option('display.max_colwidth',400)\n",
    "\n",
    "from matplotlib import rcParams\n",
    "sns.set(context='notebook'\n",
    "       ,style = 'whitegrid'\n",
    "       ,rc={'figure.figsize':(18,4)})\n",
    "rcParams['figure.figsize'] = 18,4\n",
    "\n",
    "%matplotlib inline\n",
    "%config InlineBackend.figure_format = 'retina'"
   ]
  },
  {
   "cell_type": "markdown",
   "id": "smooth-thriller",
   "metadata": {},
   "source": [
    "# Spark"
   ]
  },
  {
   "cell_type": "code",
   "execution_count": 7,
   "id": "banner-sunrise",
   "metadata": {},
   "outputs": [],
   "source": [
    "#Session\n",
    "spark = SparkSession.builder \\\n",
    "        .master(\"local\") \\\n",
    "        .appName('LR-CaliforniaHousing') \\\n",
    "        .getOrCreate()\n",
    "#SparkContext\n",
    "sc = spark.sparkContext"
   ]
  },
  {
   "cell_type": "code",
   "execution_count": 10,
   "id": "surprising-minutes",
   "metadata": {},
   "outputs": [
    {
     "data": {
      "text/html": [
       "\n",
       "        <div>\n",
       "            <p><b>SparkContext</b></p>\n",
       "\n",
       "            <p><a href=\"http://1e52f6cf54a7:4040\">Spark UI</a></p>\n",
       "\n",
       "            <dl>\n",
       "              <dt>Version</dt>\n",
       "                <dd><code>v3.0.0</code></dd>\n",
       "              <dt>Master</dt>\n",
       "                <dd><code>local</code></dd>\n",
       "              <dt>AppName</dt>\n",
       "                <dd><code>LR-CaliforniaHousing</code></dd>\n",
       "            </dl>\n",
       "        </div>\n",
       "        "
      ],
      "text/plain": [
       "<SparkContext master=local appName=LR-CaliforniaHousing>"
      ]
     },
     "execution_count": 10,
     "metadata": {},
     "output_type": "execute_result"
    }
   ],
   "source": [
    "sc"
   ]
  },
  {
   "cell_type": "markdown",
   "id": "animal-retro",
   "metadata": {},
   "source": [
    "# Data"
   ]
  },
  {
   "cell_type": "code",
   "execution_count": 144,
   "id": "sublime-blues",
   "metadata": {},
   "outputs": [
    {
     "name": "stdout",
     "output_type": "stream",
     "text": [
      "root\n",
      " |-- long: float (nullable = true)\n",
      " |-- lat: float (nullable = true)\n",
      " |-- medianAge: float (nullable = true)\n",
      " |-- totalRoom: float (nullable = true)\n",
      " |-- totalBedroom: float (nullable = true)\n",
      " |-- population: float (nullable = true)\n",
      " |-- household: float (nullable = true)\n",
      " |-- medianIncome: float (nullable = true)\n",
      " |-- medianHouseValue: float (nullable = true)\n",
      "\n",
      "rows: 20640\n"
     ]
    }
   ],
   "source": [
    "path = './data/cal_housing.data'\n",
    "\n",
    "schema = StructType ([\n",
    "    \n",
    "    StructField(\"long\", FloatType(), nullable=True),\n",
    "    StructField(\"lat\", FloatType(), nullable=True),\n",
    "    StructField(\"medianAge\", FloatType(), nullable=True),\n",
    "    StructField(\"totalRoom\", FloatType(), nullable=True),\n",
    "    StructField(\"totalBedroom\", FloatType(), nullable=True),\n",
    "    StructField(\"population\", FloatType(), nullable=True),\n",
    "    StructField(\"household\", FloatType(), nullable=True),\n",
    "    StructField(\"medianIncome\", FloatType(), nullable=True),\n",
    "    StructField(\"medianHouseValue\", FloatType(), nullable=True)\n",
    "    \n",
    "    ])\n",
    "\n",
    "data = spark.read \\\n",
    "        .csv(path=path, schema = schema) \\\n",
    "        .cache()\n",
    "\n",
    "data.printSchema()\n",
    "print(f'rows: {data.count()}')"
   ]
  },
  {
   "cell_type": "code",
   "execution_count": 145,
   "id": "suspected-potential",
   "metadata": {},
   "outputs": [
    {
     "data": {
      "text/html": [
       "<div>\n",
       "<style scoped>\n",
       "    .dataframe tbody tr th:only-of-type {\n",
       "        vertical-align: middle;\n",
       "    }\n",
       "\n",
       "    .dataframe tbody tr th {\n",
       "        vertical-align: top;\n",
       "    }\n",
       "\n",
       "    .dataframe thead th {\n",
       "        text-align: right;\n",
       "    }\n",
       "</style>\n",
       "<table border=\"1\" class=\"dataframe\">\n",
       "  <thead>\n",
       "    <tr style=\"text-align: right;\">\n",
       "      <th></th>\n",
       "      <th>long</th>\n",
       "      <th>lat</th>\n",
       "      <th>medianAge</th>\n",
       "      <th>totalRoom</th>\n",
       "      <th>totalBedroom</th>\n",
       "      <th>population</th>\n",
       "      <th>household</th>\n",
       "      <th>medianIncome</th>\n",
       "      <th>medianHouseValue</th>\n",
       "    </tr>\n",
       "  </thead>\n",
       "  <tbody>\n",
       "    <tr>\n",
       "      <th>0</th>\n",
       "      <td>-122.230003</td>\n",
       "      <td>37.880001</td>\n",
       "      <td>41.0</td>\n",
       "      <td>880.0</td>\n",
       "      <td>129.0</td>\n",
       "      <td>322.0</td>\n",
       "      <td>126.0</td>\n",
       "      <td>8.3252</td>\n",
       "      <td>452600.0</td>\n",
       "    </tr>\n",
       "    <tr>\n",
       "      <th>1</th>\n",
       "      <td>-122.220001</td>\n",
       "      <td>37.860001</td>\n",
       "      <td>21.0</td>\n",
       "      <td>7099.0</td>\n",
       "      <td>1106.0</td>\n",
       "      <td>2401.0</td>\n",
       "      <td>1138.0</td>\n",
       "      <td>8.3014</td>\n",
       "      <td>358500.0</td>\n",
       "    </tr>\n",
       "    <tr>\n",
       "      <th>2</th>\n",
       "      <td>-122.239998</td>\n",
       "      <td>37.849998</td>\n",
       "      <td>52.0</td>\n",
       "      <td>1467.0</td>\n",
       "      <td>190.0</td>\n",
       "      <td>496.0</td>\n",
       "      <td>177.0</td>\n",
       "      <td>7.2574</td>\n",
       "      <td>352100.0</td>\n",
       "    </tr>\n",
       "    <tr>\n",
       "      <th>3</th>\n",
       "      <td>-122.250000</td>\n",
       "      <td>37.849998</td>\n",
       "      <td>52.0</td>\n",
       "      <td>1274.0</td>\n",
       "      <td>235.0</td>\n",
       "      <td>558.0</td>\n",
       "      <td>219.0</td>\n",
       "      <td>5.6431</td>\n",
       "      <td>341300.0</td>\n",
       "    </tr>\n",
       "    <tr>\n",
       "      <th>4</th>\n",
       "      <td>-122.250000</td>\n",
       "      <td>37.849998</td>\n",
       "      <td>52.0</td>\n",
       "      <td>1627.0</td>\n",
       "      <td>280.0</td>\n",
       "      <td>565.0</td>\n",
       "      <td>259.0</td>\n",
       "      <td>3.8462</td>\n",
       "      <td>342200.0</td>\n",
       "    </tr>\n",
       "  </tbody>\n",
       "</table>\n",
       "</div>"
      ],
      "text/plain": [
       "         long        lat  medianAge  totalRoom  totalBedroom  population  \\\n",
       "0 -122.230003  37.880001       41.0      880.0         129.0       322.0   \n",
       "1 -122.220001  37.860001       21.0     7099.0        1106.0      2401.0   \n",
       "2 -122.239998  37.849998       52.0     1467.0         190.0       496.0   \n",
       "3 -122.250000  37.849998       52.0     1274.0         235.0       558.0   \n",
       "4 -122.250000  37.849998       52.0     1627.0         280.0       565.0   \n",
       "\n",
       "   household  medianIncome  medianHouseValue  \n",
       "0      126.0        8.3252          452600.0  \n",
       "1     1138.0        8.3014          358500.0  \n",
       "2      177.0        7.2574          352100.0  \n",
       "3      219.0        5.6431          341300.0  \n",
       "4      259.0        3.8462          342200.0  "
      ]
     },
     "execution_count": 145,
     "metadata": {},
     "output_type": "execute_result"
    }
   ],
   "source": [
    "data.limit(5).toPandas()"
   ]
  },
  {
   "cell_type": "markdown",
   "id": "controlled-northwest",
   "metadata": {},
   "source": [
    "### Distribucion de población según mediana de edad"
   ]
  },
  {
   "cell_type": "code",
   "execution_count": 146,
   "id": "legitimate-title",
   "metadata": {},
   "outputs": [
    {
     "data": {
      "image/png": "[encoded data removed]",
      "text/plain": [
       "<Figure size 1008x432 with 1 Axes>"
      ]
     },
     "metadata": {
      "image/png": {
       "height": 390,
       "width": 833
      },
      "needs_background": "light"
     },
     "output_type": "display_data"
    }
   ],
   "source": [
    "dist1 = data.groupby(['medianAge'])\\\n",
    "    .agg({'population':'count'}) \\\n",
    "    .sort('medianAge', ascending=False)\n",
    "\n",
    "dist1.toPandas().plot\\\n",
    "     .bar(x='medianAge', \n",
    "          figsize=(14,6)\n",
    "         )\n",
    "plt.show()"
   ]
  },
  {
   "cell_type": "markdown",
   "id": "refined-document",
   "metadata": {},
   "source": [
    "### Resumen del dataset"
   ]
  },
  {
   "cell_type": "code",
   "execution_count": 147,
   "id": "descending-interview",
   "metadata": {},
   "outputs": [
    {
     "data": {
      "text/html": [
       "<div>\n",
       "<style scoped>\n",
       "    .dataframe tbody tr th:only-of-type {\n",
       "        vertical-align: middle;\n",
       "    }\n",
       "\n",
       "    .dataframe tbody tr th {\n",
       "        vertical-align: top;\n",
       "    }\n",
       "\n",
       "    .dataframe thead th {\n",
       "        text-align: right;\n",
       "    }\n",
       "</style>\n",
       "<table border=\"1\" class=\"dataframe\">\n",
       "  <thead>\n",
       "    <tr style=\"text-align: right;\">\n",
       "      <th></th>\n",
       "      <th>medianAge</th>\n",
       "      <th>totalRoom</th>\n",
       "      <th>totalBedroom</th>\n",
       "      <th>population</th>\n",
       "      <th>household</th>\n",
       "      <th>medianIncome</th>\n",
       "      <th>medianHouseValue</th>\n",
       "    </tr>\n",
       "    <tr>\n",
       "      <th>summary</th>\n",
       "      <th></th>\n",
       "      <th></th>\n",
       "      <th></th>\n",
       "      <th></th>\n",
       "      <th></th>\n",
       "      <th></th>\n",
       "      <th></th>\n",
       "    </tr>\n",
       "  </thead>\n",
       "  <tbody>\n",
       "    <tr>\n",
       "      <th>count</th>\n",
       "      <td>20640.00</td>\n",
       "      <td>20640.00</td>\n",
       "      <td>20640.00</td>\n",
       "      <td>20640.00</td>\n",
       "      <td>20640.00</td>\n",
       "      <td>20640.00</td>\n",
       "      <td>20640.00</td>\n",
       "    </tr>\n",
       "    <tr>\n",
       "      <th>mean</th>\n",
       "      <td>28.64</td>\n",
       "      <td>2635.76</td>\n",
       "      <td>537.90</td>\n",
       "      <td>1425.48</td>\n",
       "      <td>499.54</td>\n",
       "      <td>3.87</td>\n",
       "      <td>206855.82</td>\n",
       "    </tr>\n",
       "    <tr>\n",
       "      <th>stddev</th>\n",
       "      <td>12.59</td>\n",
       "      <td>2181.62</td>\n",
       "      <td>421.25</td>\n",
       "      <td>1132.46</td>\n",
       "      <td>382.33</td>\n",
       "      <td>1.90</td>\n",
       "      <td>115395.62</td>\n",
       "    </tr>\n",
       "    <tr>\n",
       "      <th>min</th>\n",
       "      <td>1.00</td>\n",
       "      <td>2.00</td>\n",
       "      <td>1.00</td>\n",
       "      <td>3.00</td>\n",
       "      <td>1.00</td>\n",
       "      <td>0.50</td>\n",
       "      <td>14999.00</td>\n",
       "    </tr>\n",
       "    <tr>\n",
       "      <th>max</th>\n",
       "      <td>52.00</td>\n",
       "      <td>39320.00</td>\n",
       "      <td>6445.00</td>\n",
       "      <td>35682.00</td>\n",
       "      <td>6082.00</td>\n",
       "      <td>15.00</td>\n",
       "      <td>500001.00</td>\n",
       "    </tr>\n",
       "  </tbody>\n",
       "</table>\n",
       "</div>"
      ],
      "text/plain": [
       "         medianAge  totalRoom  totalBedroom  population  household  \\\n",
       "summary                                                              \n",
       "count     20640.00   20640.00      20640.00    20640.00   20640.00   \n",
       "mean         28.64    2635.76        537.90     1425.48     499.54   \n",
       "stddev       12.59    2181.62        421.25     1132.46     382.33   \n",
       "min           1.00       2.00          1.00        3.00       1.00   \n",
       "max          52.00   39320.00       6445.00    35682.00    6082.00   \n",
       "\n",
       "         medianIncome  medianHouseValue  \n",
       "summary                                  \n",
       "count        20640.00          20640.00  \n",
       "mean             3.87         206855.82  \n",
       "stddev           1.90         115395.62  \n",
       "min              0.50          14999.00  \n",
       "max             15.00         500001.00  "
      ]
     },
     "execution_count": 147,
     "metadata": {},
     "output_type": "execute_result"
    }
   ],
   "source": [
    "data.describe()\\\n",
    "    .select(\n",
    "        'summary',\n",
    "        F.round('medianAge',2).alias('medianAge'),\n",
    "        F.round('totalRoom',2).alias('totalRoom'),\n",
    "        F.round('totalBedroom',2).alias('totalBedroom'),\n",
    "        F.round('population',2).alias('population'),\n",
    "        F.round('household',2).alias('household'),\n",
    "        F.round('medianIncome',2).alias('medianIncome'),\n",
    "        F.round('medianHouseValue',2).alias('medianHouseValue')\n",
    "    ) \\\n",
    "    .toPandas().set_index('summary')"
   ]
  },
  {
   "cell_type": "markdown",
   "id": "civic-manual",
   "metadata": {},
   "source": [
    "### Manipulación de data"
   ]
  },
  {
   "cell_type": "code",
   "execution_count": 153,
   "id": "literary-acrobat",
   "metadata": {},
   "outputs": [],
   "source": [
    "# medianHouseValue, base = 100.000\n",
    "dataWrangling = data.withColumn('medianHouseValue',col('medianHouseValue')/100000)\n",
    "\n",
    "# room per household, population per household, bedroom per rooms\n",
    "dataWrangling = dataWrangling.withColumn('roomPerHousehold', \n",
    "                        F.round(col('totalRoom')/col('household'),2)\n",
    "                      )\\\n",
    "            .withColumn('populationPerHousehold',\n",
    "                       F.round(col('population')/col('household'),2)\n",
    "                       )\\\n",
    "            .withColumn('beedroomPerHousehold',\n",
    "                       F.round(col('totalBedroom')/col('totalRoom'),2)\n",
    "                       )"
   ]
  },
  {
   "cell_type": "code",
   "execution_count": 149,
   "id": "sharing-monster",
   "metadata": {},
   "outputs": [
    {
     "data": {
      "text/html": [
       "<div>\n",
       "<style scoped>\n",
       "    .dataframe tbody tr th:only-of-type {\n",
       "        vertical-align: middle;\n",
       "    }\n",
       "\n",
       "    .dataframe tbody tr th {\n",
       "        vertical-align: top;\n",
       "    }\n",
       "\n",
       "    .dataframe thead th {\n",
       "        text-align: right;\n",
       "    }\n",
       "</style>\n",
       "<table border=\"1\" class=\"dataframe\">\n",
       "  <thead>\n",
       "    <tr style=\"text-align: right;\">\n",
       "      <th></th>\n",
       "      <th>long</th>\n",
       "      <th>lat</th>\n",
       "      <th>medianAge</th>\n",
       "      <th>totalRoom</th>\n",
       "      <th>totalBedroom</th>\n",
       "      <th>population</th>\n",
       "      <th>household</th>\n",
       "      <th>medianIncome</th>\n",
       "      <th>medianHouseValue</th>\n",
       "      <th>roomPerHousehold</th>\n",
       "      <th>populationPerHousehold</th>\n",
       "      <th>beedroomPerHousehold</th>\n",
       "    </tr>\n",
       "  </thead>\n",
       "  <tbody>\n",
       "    <tr>\n",
       "      <th>0</th>\n",
       "      <td>-122.230003</td>\n",
       "      <td>37.880001</td>\n",
       "      <td>41.0</td>\n",
       "      <td>880.0</td>\n",
       "      <td>129.0</td>\n",
       "      <td>322.0</td>\n",
       "      <td>126.0</td>\n",
       "      <td>8.3252</td>\n",
       "      <td>4.526</td>\n",
       "      <td>6.98</td>\n",
       "      <td>2.56</td>\n",
       "      <td>0.15</td>\n",
       "    </tr>\n",
       "    <tr>\n",
       "      <th>1</th>\n",
       "      <td>-122.220001</td>\n",
       "      <td>37.860001</td>\n",
       "      <td>21.0</td>\n",
       "      <td>7099.0</td>\n",
       "      <td>1106.0</td>\n",
       "      <td>2401.0</td>\n",
       "      <td>1138.0</td>\n",
       "      <td>8.3014</td>\n",
       "      <td>3.585</td>\n",
       "      <td>6.24</td>\n",
       "      <td>2.11</td>\n",
       "      <td>0.16</td>\n",
       "    </tr>\n",
       "    <tr>\n",
       "      <th>2</th>\n",
       "      <td>-122.239998</td>\n",
       "      <td>37.849998</td>\n",
       "      <td>52.0</td>\n",
       "      <td>1467.0</td>\n",
       "      <td>190.0</td>\n",
       "      <td>496.0</td>\n",
       "      <td>177.0</td>\n",
       "      <td>7.2574</td>\n",
       "      <td>3.521</td>\n",
       "      <td>8.29</td>\n",
       "      <td>2.80</td>\n",
       "      <td>0.13</td>\n",
       "    </tr>\n",
       "  </tbody>\n",
       "</table>\n",
       "</div>"
      ],
      "text/plain": [
       "         long        lat  medianAge  totalRoom  totalBedroom  population  \\\n",
       "0 -122.230003  37.880001       41.0      880.0         129.0       322.0   \n",
       "1 -122.220001  37.860001       21.0     7099.0        1106.0      2401.0   \n",
       "2 -122.239998  37.849998       52.0     1467.0         190.0       496.0   \n",
       "\n",
       "   household  medianIncome  medianHouseValue  roomPerHousehold  \\\n",
       "0      126.0        8.3252             4.526              6.98   \n",
       "1     1138.0        8.3014             3.585              6.24   \n",
       "2      177.0        7.2574             3.521              8.29   \n",
       "\n",
       "   populationPerHousehold  beedroomPerHousehold  \n",
       "0                    2.56                  0.15  \n",
       "1                    2.11                  0.16  \n",
       "2                    2.80                  0.13  "
      ]
     },
     "execution_count": 149,
     "metadata": {},
     "output_type": "execute_result"
    }
   ],
   "source": [
    "dataWrangling.limit(3).toPandas()"
   ]
  },
  {
   "cell_type": "markdown",
   "id": "cellular-sharp",
   "metadata": {},
   "source": [
    "# Modelado"
   ]
  },
  {
   "cell_type": "markdown",
   "id": "center-bunch",
   "metadata": {},
   "source": [
    "### Vector de features"
   ]
  },
  {
   "cell_type": "code",
   "execution_count": 155,
   "id": "confident-consistency",
   "metadata": {},
   "outputs": [],
   "source": [
    "features = ['totalBedroom',\n",
    "            'population',\n",
    "            'household',\n",
    "            'medianIncome',\n",
    "            'roomPerHousehold',\n",
    "            'populationPerHousehold',\n",
    "            'beedroomPerHousehold']\n",
    "assembler = VectorAssembler(\n",
    "                inputCols=features,\n",
    "                outputCol='features'\n",
    "            )\n",
    "\n",
    "dataModel = assembler.transform(dataWrangling)\n",
    "\n",
    "\n",
    "standardScaler = StandardScaler(\n",
    "                    inputCol='features',\n",
    "                    outputCol='featuresScaled'\n",
    "                )\n",
    "\n",
    "dataModel = standardScaler.fit(dataModel) \\\n",
    "                .transform(dataModel)\n",
    "\n",
    "dataModel = dataModel.select('featuresScaled','medianHouseValue')"
   ]
  },
  {
   "cell_type": "code",
   "execution_count": 156,
   "id": "compact-right",
   "metadata": {},
   "outputs": [
    {
     "data": {
      "text/html": [
       "<div>\n",
       "<style scoped>\n",
       "    .dataframe tbody tr th:only-of-type {\n",
       "        vertical-align: middle;\n",
       "    }\n",
       "\n",
       "    .dataframe tbody tr th {\n",
       "        vertical-align: top;\n",
       "    }\n",
       "\n",
       "    .dataframe thead th {\n",
       "        text-align: right;\n",
       "    }\n",
       "</style>\n",
       "<table border=\"1\" class=\"dataframe\">\n",
       "  <thead>\n",
       "    <tr style=\"text-align: right;\">\n",
       "      <th></th>\n",
       "      <th>featuresScaled</th>\n",
       "      <th>medianHouseValue</th>\n",
       "    </tr>\n",
       "  </thead>\n",
       "  <tbody>\n",
       "    <tr>\n",
       "      <th>0</th>\n",
       "      <td>[0.30623297630686513, 0.2843362208866199, 0.3295584480852433, 4.38209543579743, 2.8211223886115664, 0.24648542140099877, 2.5828740130262697]</td>\n",
       "      <td>4.526</td>\n",
       "    </tr>\n",
       "    <tr>\n",
       "      <th>1</th>\n",
       "      <td>[2.6255323394991694, 2.1201592122632746, 2.9764882057222772, 4.36956799913841, 2.522034914747303, 0.20315790592035446, 2.755065613894688]</td>\n",
       "      <td>3.585</td>\n",
       "    </tr>\n",
       "    <tr>\n",
       "      <th>2</th>\n",
       "      <td>[0.451040817816313, 0.4379837439744208, 0.4629511532626037, 3.820042673324032, 3.3505880518037077, 0.2695934296573424, 2.238490811289434]</td>\n",
       "      <td>3.521</td>\n",
       "    </tr>\n",
       "  </tbody>\n",
       "</table>\n",
       "</div>"
      ],
      "text/plain": [
       "                                                                                                                                 featuresScaled  \\\n",
       "0  [0.30623297630686513, 0.2843362208866199, 0.3295584480852433, 4.38209543579743, 2.8211223886115664, 0.24648542140099877, 2.5828740130262697]   \n",
       "1     [2.6255323394991694, 2.1201592122632746, 2.9764882057222772, 4.36956799913841, 2.522034914747303, 0.20315790592035446, 2.755065613894688]   \n",
       "2     [0.451040817816313, 0.4379837439744208, 0.4629511532626037, 3.820042673324032, 3.3505880518037077, 0.2695934296573424, 2.238490811289434]   \n",
       "\n",
       "   medianHouseValue  \n",
       "0             4.526  \n",
       "1             3.585  \n",
       "2             3.521  "
      ]
     },
     "execution_count": 156,
     "metadata": {},
     "output_type": "execute_result"
    }
   ],
   "source": [
    "dataModel.limit(3).toPandas()"
   ]
  },
  {
   "cell_type": "markdown",
   "id": "radio-longer",
   "metadata": {},
   "source": [
    "### Ajuste de modelo"
   ]
  },
  {
   "cell_type": "code",
   "execution_count": 165,
   "id": "sudden-bibliography",
   "metadata": {},
   "outputs": [],
   "source": [
    "train, test = dataModel.randomSplit([.8,.2],\n",
    "                                    seed=rnd_seed)"
   ]
  },
  {
   "cell_type": "code",
   "execution_count": 169,
   "id": "professional-moldova",
   "metadata": {},
   "outputs": [],
   "source": [
    "lr = LinearRegression(\n",
    "            featuresCol='featuresScaled',\n",
    "            labelCol='medianHouseValue',\n",
    "            predictionCol='prediction',\n",
    "            maxIter=100,\n",
    "            regParam=0.3,\n",
    "            elasticNetParam=0.8,\n",
    "            standardization=False\n",
    "            )\n",
    "lrModel = lr.fit(train)"
   ]
  },
  {
   "cell_type": "code",
   "execution_count": 187,
   "id": "comparative-dodge",
   "metadata": {},
   "outputs": [
    {
     "data": {
      "text/html": [
       "<div>\n",
       "<style scoped>\n",
       "    .dataframe tbody tr th:only-of-type {\n",
       "        vertical-align: middle;\n",
       "    }\n",
       "\n",
       "    .dataframe tbody tr th {\n",
       "        vertical-align: top;\n",
       "    }\n",
       "\n",
       "    .dataframe thead th {\n",
       "        text-align: right;\n",
       "    }\n",
       "</style>\n",
       "<table border=\"1\" class=\"dataframe\">\n",
       "  <thead>\n",
       "    <tr style=\"text-align: right;\">\n",
       "      <th></th>\n",
       "      <th>Feature</th>\n",
       "      <th>Coeff</th>\n",
       "    </tr>\n",
       "  </thead>\n",
       "  <tbody>\n",
       "    <tr>\n",
       "      <th>0</th>\n",
       "      <td>Intercept</td>\n",
       "      <td>0.999106</td>\n",
       "    </tr>\n",
       "    <tr>\n",
       "      <th>1</th>\n",
       "      <td>totalBedroom</td>\n",
       "      <td>0.000000</td>\n",
       "    </tr>\n",
       "    <tr>\n",
       "      <th>2</th>\n",
       "      <td>population</td>\n",
       "      <td>0.000000</td>\n",
       "    </tr>\n",
       "    <tr>\n",
       "      <th>3</th>\n",
       "      <td>household</td>\n",
       "      <td>0.000000</td>\n",
       "    </tr>\n",
       "    <tr>\n",
       "      <th>4</th>\n",
       "      <td>medianIncome</td>\n",
       "      <td>0.524366</td>\n",
       "    </tr>\n",
       "    <tr>\n",
       "      <th>5</th>\n",
       "      <td>roomPerHousehold</td>\n",
       "      <td>0.000000</td>\n",
       "    </tr>\n",
       "    <tr>\n",
       "      <th>6</th>\n",
       "      <td>populationPerHousehold</td>\n",
       "      <td>0.000000</td>\n",
       "    </tr>\n",
       "    <tr>\n",
       "      <th>7</th>\n",
       "      <td>beedroomPerHousehold</td>\n",
       "      <td>0.000000</td>\n",
       "    </tr>\n",
       "  </tbody>\n",
       "</table>\n",
       "</div>"
      ],
      "text/plain": [
       "                  Feature     Coeff\n",
       "0               Intercept  0.999106\n",
       "1            totalBedroom  0.000000\n",
       "2              population  0.000000\n",
       "3               household  0.000000\n",
       "4            medianIncome  0.524366\n",
       "5        roomPerHousehold  0.000000\n",
       "6  populationPerHousehold  0.000000\n",
       "7    beedroomPerHousehold  0.000000"
      ]
     },
     "execution_count": 187,
     "metadata": {},
     "output_type": "execute_result"
    }
   ],
   "source": [
    "coeff = pd.DataFrame({\n",
    "        'Feature': ['Intercept'] + features,\n",
    "        'Coeff': np.insert(lrModel.coefficients.toArray(), 0, lrModel.intercept)\n",
    "})\n",
    "\n",
    "coeff"
   ]
  },
  {
   "cell_type": "markdown",
   "id": "impressive-catering",
   "metadata": {},
   "source": [
    "### Perfomance"
   ]
  },
  {
   "cell_type": "code",
   "execution_count": 194,
   "id": "genetic-investing",
   "metadata": {},
   "outputs": [
    {
     "data": {
      "text/html": [
       "<div>\n",
       "<style scoped>\n",
       "    .dataframe tbody tr th:only-of-type {\n",
       "        vertical-align: middle;\n",
       "    }\n",
       "\n",
       "    .dataframe tbody tr th {\n",
       "        vertical-align: top;\n",
       "    }\n",
       "\n",
       "    .dataframe thead th {\n",
       "        text-align: right;\n",
       "    }\n",
       "</style>\n",
       "<table border=\"1\" class=\"dataframe\">\n",
       "  <thead>\n",
       "    <tr style=\"text-align: right;\">\n",
       "      <th></th>\n",
       "      <th>prediction</th>\n",
       "      <th>medianHouseValue</th>\n",
       "    </tr>\n",
       "  </thead>\n",
       "  <tbody>\n",
       "    <tr>\n",
       "      <th>0</th>\n",
       "      <td>5.139256</td>\n",
       "      <td>5.00001</td>\n",
       "    </tr>\n",
       "    <tr>\n",
       "      <th>1</th>\n",
       "      <td>2.275644</td>\n",
       "      <td>2.50000</td>\n",
       "    </tr>\n",
       "    <tr>\n",
       "      <th>2</th>\n",
       "      <td>1.309615</td>\n",
       "      <td>0.60000</td>\n",
       "    </tr>\n",
       "  </tbody>\n",
       "</table>\n",
       "</div>"
      ],
      "text/plain": [
       "   prediction  medianHouseValue\n",
       "0    5.139256           5.00001\n",
       "1    2.275644           2.50000\n",
       "2    1.309615           0.60000"
      ]
     },
     "execution_count": 194,
     "metadata": {},
     "output_type": "execute_result"
    }
   ],
   "source": [
    "predictions = (lrModel.transform(test)).select('prediction','medianHouseValue')\n",
    "predictions.limit(3).toPandas()"
   ]
  },
  {
   "cell_type": "code",
   "execution_count": 200,
   "id": "lasting-prize",
   "metadata": {},
   "outputs": [
    {
     "name": "stdout",
     "output_type": "stream",
     "text": [
      "RMSE: 0.881\n",
      "MAE: 0.678\n",
      "R2: 0.415\n"
     ]
    }
   ],
   "source": [
    "print(f'RMSE: {np.round(lrModel.summary.rootMeanSquaredError,3)}')\n",
    "print(f'MAE: {np.round(lrModel.summary.meanAbsoluteError,3)}')\n",
    "print(f'R2: {np.round(lrModel.summary.r2,3)}')"
   ]
  },
  {
   "cell_type": "markdown",
   "id": "chubby-trail",
   "metadata": {},
   "source": [
    "#### pyspark RegressionEvaluator"
   ]
  },
  {
   "cell_type": "code",
   "execution_count": 205,
   "id": "filled-rebate",
   "metadata": {},
   "outputs": [
    {
     "name": "stdout",
     "output_type": "stream",
     "text": [
      "RMSE: 0.874\n",
      "MAE: 0.671\n"
     ]
    }
   ],
   "source": [
    "rmse = RegressionEvaluator(\n",
    "            predictionCol='prediction',\n",
    "            labelCol='medianHouseValue',\n",
    "            metricName='rmse'\n",
    "            )\n",
    "print(f'RMSE: {np.round(rmse.evaluate(predictions),3)}')\n",
    "\n",
    "\n",
    "mae = RegressionEvaluator(\n",
    "            predictionCol='prediction',\n",
    "            labelCol='medianHouseValue',\n",
    "            metricName='mae'\n",
    "            )\n",
    "print(f'MAE: {np.round(mae.evaluate(predictions),3)}')"
   ]
  },
  {
   "cell_type": "markdown",
   "id": "organizational-adult",
   "metadata": {},
   "source": [
    "#### pyspark RegressionMetrics"
   ]
  },
  {
   "cell_type": "code",
   "execution_count": 212,
   "id": "eastern-clarity",
   "metadata": {},
   "outputs": [
    {
     "name": "stdout",
     "output_type": "stream",
     "text": [
      "RMSE: 0.874\n",
      "MAE: 0.671\n"
     ]
    }
   ],
   "source": [
    "metrics = RegressionMetrics(predictions.rdd)\n",
    "\n",
    "print(f'RMSE: {np.round(metrics.rootMeanSquaredError,3)}')\n",
    "print(f'MAE: {np.round(metrics.meanAbsoluteError,3)}')"
   ]
  },
  {
   "cell_type": "code",
   "execution_count": 213,
   "id": "fiscal-crown",
   "metadata": {},
   "outputs": [],
   "source": [
    "spark.stop()"
   ]
  }
 ],
 "metadata": {
  "kernelspec": {
   "display_name": "Python 3",
   "language": "python",
   "name": "python3"
  },
  "language_info": {
   "codemirror_mode": {
    "name": "ipython",
    "version": 3
   },
   "file_extension": ".py",
   "mimetype": "text/x-python",
   "name": "python",
   "nbconvert_exporter": "python",
   "pygments_lexer": "ipython3",
   "version": "3.7.3"
  }
 },
 "nbformat": 4,
 "nbformat_minor": 5
}
